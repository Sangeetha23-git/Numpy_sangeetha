{
 "cells": [
  {
   "cell_type": "markdown",
   "metadata": {},
   "source": [
    "# Linear Regression"
   ]
  },
  {
   "cell_type": "markdown",
   "metadata": {},
   "source": [
    "# \"Linear regression is a machine learning method for prediction. In essence, if we are given training samples $(x_0, y_0), \\\\dots, (x_{n-1}, y_{n-1})$, then linear regression produces a line $L$ that best approximates the points. The line $L$ can then be used to predict the values of new data: If $x_{n}$ is a new data point, then the predicted value for $y_{n}$ is the hight of $L$ over the point $x_{n}$.\\n\",\n",
    "    \n",
    "    "
   ]
  },
  {
   "cell_type": "markdown",
   "metadata": {},
   "source": [
    "# \"As an example, let the $x$-values represent height of individuals (in cm), and let the $y$-values represent the weight of the individuals (in kg). Then a pair $(180, 80)$ represents a person that is 180cm high, and weights 80kg. The task of linear regression is, given many observed individuals $(x_0, y_0), \\\\dots, (x_{n-1}, y_{n-1})$, to predict the weight $y_{n}$ of a new individual by only knowing the persons hight $x_{n}$.\\n\",\n",
    "    "
   ]
  },
  {
   "cell_type": "markdown",
   "metadata": {},
   "source": [
    "#     \"In this exercise sheet, we will implement linear regression on random data to get some practice with random number generators. We will give you everything you need to know, so don't worry if you don't already know linear regression.\"\n",
    "   "
   ]
  },
  {
   "cell_type": "markdown",
   "metadata": {},
   "source": [
    "# Exercise 1:  Importing NumPy"
   ]
  },
  {
   "cell_type": "code",
   "execution_count": 2,
   "metadata": {},
   "outputs": [],
   "source": [
    "# \"We start by importing the necessary packages.\"\n",
    "\n",
    "import numpy as np"
   ]
  },
  {
   "cell_type": "code",
   "execution_count": 3,
   "metadata": {},
   "outputs": [],
   "source": [
    "# Import the random module from NumPy\n",
    "from numpy import random"
   ]
  },
  {
   "cell_type": "markdown",
   "metadata": {},
   "source": [
    "# Exercise 2: Make a Random Number Generator"
   ]
  },
  {
   "cell_type": "code",
   "execution_count": 4,
   "metadata": {},
   "outputs": [],
   "source": [
    "# \"Create a random number generator with seed 101 and call this rng.\"\n",
    "rng = np.random.default_rng(101)"
   ]
  },
  {
   "cell_type": "markdown",
   "metadata": {},
   "source": [
    "\n",
    "# Exercise 3: Create Random Input Numbers"
   ]
  },
  {
   "cell_type": "markdown",
   "metadata": {},
   "source": [
    "#    \"We will now create the $x$-values for training the linear regression. Make a NumPy array $x$ that contains 100 random integers between 0 and 10 (inclusive).\"\n"
   ]
  },
  {
   "cell_type": "code",
   "execution_count": 10,
   "metadata": {},
   "outputs": [],
   "source": [
    "# Create random input numbers\n",
    "x = rng.integers(0,10,size=100)"
   ]
  },
  {
   "cell_type": "markdown",
   "metadata": {},
   "source": [
    "# Exercise 4: Create Random Output Numbers"
   ]
  },
  {
   "cell_type": "markdown",
   "metadata": {},
   "source": [
    "#    \"We will now create the corresponding $y$-values. Make a NumPy array $y$ that contains 100 uniform random floats between 0 and 1.\"\n"
   ]
  },
  {
   "cell_type": "code",
   "execution_count": 11,
   "metadata": {},
   "outputs": [],
   "source": [
    "# Create random output numbers\n",
    "# 100 uniform floats between 0 and 1\n",
    "y = rng.random(100)"
   ]
  },
  {
   "cell_type": "markdown",
   "metadata": {},
   "source": [
    "# Exercise 5: Means and Standard Deviations"
   ]
  },
  {
   "cell_type": "markdown",
   "metadata": {},
   "source": [
    "#    \"Let us inspect the means and standard deviations of the NumPy arrays $x$ and $y$.\"\n"
   ]
  },
  {
   "cell_type": "code",
   "execution_count": 15,
   "metadata": {},
   "outputs": [
    {
     "name": "stdout",
     "output_type": "stream",
     "text": [
      "mean of x is 4.26\n",
      "mean of y is 0.4544153830510646\n"
     ]
    }
   ],
   "source": [
    "# Print the mean and standard deviation of X and y\n",
    "print(\"mean of x is\",np.mean(x))\n",
    "print(\"mean of y is\",np.mean(y))"
   ]
  },
  {
   "cell_type": "code",
   "execution_count": 17,
   "metadata": {},
   "outputs": [
    {
     "name": "stdout",
     "output_type": "stream",
     "text": [
      "standard deviation of x is 2.6062233212063775\n",
      "standard deviation of y is 0.3015380033475958\n"
     ]
    }
   ],
   "source": [
    "print(\"standard deviation of x is\",np.std(x))\n",
    "print(\"standard deviation of y is\",np.std(y))"
   ]
  },
  {
   "cell_type": "markdown",
   "metadata": {},
   "source": [
    "# Exercise 6: Plotting and Creating the Line"
   ]
  },
  {
   "cell_type": "markdown",
   "metadata": {},
   "source": [
    "#    \"Before we move on, use <b>matplotlib</b> to plot the $x$-values and $y$-values.\"\n"
   ]
  },
  {
   "cell_type": "code",
   "execution_count": 18,
   "metadata": {},
   "outputs": [],
   "source": [
    "# Import matplotlib.pyplot with the alias plt\n",
    "import matplotlib.pyplot as plt"
   ]
  },
  {
   "cell_type": "code",
   "execution_count": 22,
   "metadata": {},
   "outputs": [
    {
     "data": {
      "image/png": "[encoded data removed]",
      "text/plain": [
       "<Figure size 432x288 with 1 Axes>"
      ]
     },
     "metadata": {},
     "output_type": "display_data"
    }
   ],
   "source": [
    "# Plot the generated points with the plt.scatter\n",
    "plt.scatter(x,y)\n",
    "plt.xlabel('x_values')\n",
    "plt.ylabel('y_values')\n",
    "plt.title(\"Generated random numbers\")\n",
    "plt.show()"
   ]
  },
  {
   "cell_type": "markdown",
   "metadata": {},
   "source": [
    "#    \"The idea is the we now have 100 pairs $(x_{0}, y_{0}), \\\\dots, (x_{99}, y_{99})$. We see from the plot above that there is no line that goes through all of the points. However, there is a line that best approximates the points. In the next exercise, we will construct that line. \"\n"
   ]
  },
  {
   "cell_type": "markdown",
   "metadata": {},
   "source": [
    "# Constructing the Line\n",
    "\"We are looking for a line $L$ that best fits the points we have created. A line $L$ has the form \\n\",\n",
    "    \"$$L = ax + b.$$\\n\",\n",
    "    \"Hence we need to find the coefficients $a$ and $b$ to determine the line. The coefficients $a$ and $b$ for the line that best fits the points are given explicitly by the expression in the next cell.\"\n",
    "   ]"
   ]
  },
  {
   "cell_type": "code",
   "execution_count": 23,
   "metadata": {},
   "outputs": [],
   "source": [
    "# Run this cell to create the coefficients a and b\\n\",\n",
    "a = (100*np.sum(x * y) - np.sum(x)*np.sum(y))/(100*np.sum(x * x) - np.sum(x)**2)\n",
    "b = (np.sum(y)*np.sum(x ** 2) - np.sum(x)*np.sum(x * y))/(100*np.sum(x * x) - np.sum(x)**2)"
   ]
  },
  {
   "cell_type": "code",
   "execution_count": 25,
   "metadata": {},
   "outputs": [
    {
     "name": "stdout",
     "output_type": "stream",
     "text": [
      "The coefficient a: 0.007049930447449036\n",
      "The coefficient b: 0.4243826793449317\n"
     ]
    }
   ],
   "source": [
    "print(\"The coefficient a:\", a)\n",
    "print(\"The coefficient b:\", b)"
   ]
  },
  {
   "cell_type": "markdown",
   "metadata": {},
   "source": [
    "# \"You don't need the understand the expression for $a$ and $b$; this is something one learns about in a statistics class. However, notice that to create $a$ and $b$ we only use the method <b>np.sum()</b> and exponentiations.\\n\",\n",
    "    "
   ]
  },
  {
   "cell_type": "markdown",
   "metadata": {},
   "source": [
    "#     \"The value $a$ represent the slope of the line $L$, while $b$ represents the $y$-axis intercept. Since the data is randomly generated in the way we have done, the $y$-intercept $b$ will be roughly $0.5$ and the slope $a$ will be close to zero. This corresponds to a horizontal line with height $0.5$.\""
   ]
  },
  {
   "cell_type": "markdown",
   "metadata": {},
   "source": [
    "# Exercise 7: Predict a Value at a New Point"
   ]
  },
  {
   "cell_type": "markdown",
   "metadata": {},
   "source": [
    "#    \"Now that we have the line $L$, we can predict the value of a new point. First create a new value $x_{new}$. Then use for formula $L = ax + b$ to find the predicted $y$-value.\"\n"
   ]
  },
  {
   "cell_type": "code",
   "execution_count": 26,
   "metadata": {},
   "outputs": [],
   "source": [
    "# Create a new variable called x_new between 0 and 10 (you can choose the value)\n",
    "x_new = 5"
   ]
  },
  {
   "cell_type": "code",
   "execution_count": 27,
   "metadata": {},
   "outputs": [],
   "source": [
    "# Predict the corresponding y_new value\n",
    "y_new = a * x_new + b"
   ]
  },
  {
   "cell_type": "code",
   "execution_count": 28,
   "metadata": {},
   "outputs": [
    {
     "name": "stdout",
     "output_type": "stream",
     "text": [
      "pridicted vaule is  0.45963233158217687\n"
     ]
    }
   ],
   "source": [
    "print(\"pridicted vaule is \",y_new)"
   ]
  },
  {
   "cell_type": "markdown",
   "metadata": {},
   "source": [
    "#    \"Whatever value you choose for $x_{new}$, the corresponding predicted value in our example should be close to $0.5$. This feature happens because our data is randomly generated.\"\n"
   ]
  },
  {
   "cell_type": "markdown",
   "metadata": {},
   "source": [
    "# Moral of the Story"
   ]
  },
  {
   "cell_type": "markdown",
   "metadata": {},
   "source": [
    "As you might have suspected by now, linear regression behaves a bit boringly when using random data. We essentially predict roughly a value of $0.5$ independently of what the input $x_{new}$ is. This is because our data are uniformly distributed, so each point is equally likely to be chosen. For real data, this is almost never the case.\n",
    "   \n",
    "  Even though we learned about linear regression for random data, the exact same procedure work for real data as well. Sometimes random data is used as a \\\"reality check\\\" to see if our linear model makes sense and that we have not written something wrong.\"\n",
    "   "
   ]
  },
  {
   "cell_type": "code",
   "execution_count": null,
   "metadata": {},
   "outputs": [],
   "source": []
  }
 ],
 "metadata": {
  "kernelspec": {
   "display_name": "Python 3",
   "language": "python",
   "name": "python3"
  },
  "language_info": {
   "codemirror_mode": {
    "name": "ipython",
    "version": 3
   },
   "file_extension": ".py",
   "mimetype": "text/x-python",
   "name": "python",
   "nbconvert_exporter": "python",
   "pygments_lexer": "ipython3",
   "version": "3.6.5"
  }
 },
 "nbformat": 4,
 "nbformat_minor": 2
}
