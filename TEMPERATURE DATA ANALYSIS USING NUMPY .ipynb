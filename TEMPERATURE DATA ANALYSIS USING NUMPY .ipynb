{
 "cells": [
  {
   "cell_type": "markdown",
   "metadata": {},
   "source": [
    "    \"In the time period 1981 - 2010, temperature data was recorded at Albany International Airport in New York. Below, you are given the record low temperatures (in Fahrenheit) for each month during this time period. You will apply what you have learned to draw conclusions about this small dataset. \"\n"
   ]
  },
  {
   "cell_type": "code",
   "execution_count": 1,
   "metadata": {},
   "outputs": [],
   "source": [
    "# \"DON'T MODIFY THIS CELL, ONLY RUN IT\" #\n",
    "record_low_list = [-28, -22, -21, 9, 25, 35, 40, 34, 24, 16, -11, -22]"
   ]
  },
  {
   "cell_type": "markdown",
   "metadata": {},
   "source": [
    "    \"The number 25 at index 4 in the list record_low_list indicates that the record low temperature in the fifth month (May) in the time period 1981 - 2010 was 25 degrees Fahrenheit (Brrr!). \"\n"
   ]
  },
  {
   "cell_type": "markdown",
   "metadata": {},
   "source": [
    "# Exercise 1:  Importing NumPy"
   ]
  },
  {
   "cell_type": "markdown",
   "metadata": {},
   "source": [
    "    Import NumPy with the alias np so that we can start working with the data:\n"
   ]
  },
  {
   "cell_type": "code",
   "execution_count": 2,
   "metadata": {},
   "outputs": [],
   "source": [
    "#import numpy\n",
    "import numpy as np"
   ]
  },
  {
   "cell_type": "markdown",
   "metadata": {},
   "source": [
    "# Exercise 2: Convert List to a NumPy Array"
   ]
  },
  {
   "cell_type": "markdown",
   "metadata": {},
   "source": [
    "Convert the list called record_low_list into a NumPy array called record_low_array"
   ]
  },
  {
   "cell_type": "code",
   "execution_count": 4,
   "metadata": {},
   "outputs": [
    {
     "name": "stdout",
     "output_type": "stream",
     "text": [
      "[-28 -22 -21   9  25  35  40  34  24  16 -11 -22]\n"
     ]
    }
   ],
   "source": [
    "record_low_list = [-28, -22, -21, 9, 25, 35, 40, 34, 24, 16, -11, -22]\n",
    "record_low_array = np.array(record_low_list)\n",
    "print(record_low_array)"
   ]
  },
  {
   "cell_type": "markdown",
   "metadata": {},
   "source": [
    "# Exercise 3: Working with Celsius"
   ]
  },
  {
   "cell_type": "markdown",
   "metadata": {},
   "source": [
    "\"We would like to convert the data into Celsius (°C) instead of Fahrenheit (°F).\n",
    "   "
   ]
  },
  {
   "cell_type": "code",
   "execution_count": 22,
   "metadata": {},
   "outputs": [],
   "source": [
    "record_low_celsius = (5 / 9) * (record_low_array - 32)"
   ]
  },
  {
   "cell_type": "code",
   "execution_count": 23,
   "metadata": {},
   "outputs": [
    {
     "name": "stdout",
     "output_type": "stream",
     "text": [
      "[-33.33333333 -30.         -29.44444444 -12.77777778  -3.88888889\n",
      "   1.66666667   4.44444444   1.11111111  -4.44444444  -8.88888889\n",
      " -23.88888889 -30.        ]\n"
     ]
    }
   ],
   "source": [
    "print(record_low_celsius)"
   ]
  },
  {
   "cell_type": "markdown",
   "metadata": {},
   "source": [
    "# Exercise 4: Extract Values"
   ]
  },
  {
   "cell_type": "markdown",
   "metadata": {},
   "source": [
    "    \"It is important to be able to access information. Print out the record low degrees in Celsius in May and in September. You should now be working with the array record_low_celsius:\"\n"
   ]
  },
  {
   "cell_type": "code",
   "execution_count": 24,
   "metadata": {},
   "outputs": [
    {
     "name": "stdout",
     "output_type": "stream",
     "text": [
      "may: -3.8888888888888893\n",
      "september: -4.444444444444445\n"
     ]
    }
   ],
   "source": [
    "print(\"may:\",record_low_celsius[4])\n",
    "print(\"september:\",record_low_celsius[8])"
   ]
  },
  {
   "cell_type": "markdown",
   "metadata": {},
   "source": [
    "# Exercise 5"
   ]
  },
  {
   "cell_type": "markdown",
   "metadata": {},
   "source": [
    "# # # # Extract the values corresponding to spring month\n",
    "\"We would like to save the three values corresponding to the spring months (March, April, and May) into a new array variable called record_low_celsius_spring. Do this by using slicing: Remember that Python (and hence NumPy) counts from zero when indexing. Hence the value for March will have index value two, not three. \n",
    "   "
   ]
  },
  {
   "cell_type": "code",
   "execution_count": 26,
   "metadata": {},
   "outputs": [
    {
     "name": "stdout",
     "output_type": "stream",
     "text": [
      "record of low celsius spring: [-29.44444444 -12.77777778  -3.88888889]\n"
     ]
    }
   ],
   "source": [
    "record_low_celsius_spring = record_low_celsius[2:5]\n",
    "print(\"record of low celsius spring:\",record_low_celsius_spring)"
   ]
  },
  {
   "cell_type": "markdown",
   "metadata": {},
   "source": [
    "# Exercise 6 : Sorting"
   ]
  },
  {
   "cell_type": "markdown",
   "metadata": {},
   "source": [
    "    \"Sometimes it is nice to have the values sorted after size. Make a new variable called sorted_celsius that has the values in record_low_celsius in sorted order (starting with the lowest, and ending with the largest value).\"\n"
   ]
  },
  {
   "cell_type": "code",
   "execution_count": 27,
   "metadata": {},
   "outputs": [
    {
     "name": "stdout",
     "output_type": "stream",
     "text": [
      "sotring celsius is: [-33.33333333 -30.         -30.         -29.44444444 -23.88888889\n",
      " -12.77777778  -8.88888889  -4.44444444  -3.88888889   1.11111111\n",
      "   1.66666667   4.44444444]\n"
     ]
    }
   ],
   "source": [
    "sorted_celsius = np.sort(record_low_celsius)\n",
    "print(\"sotring celsius is:\", sorted_celsius)"
   ]
  },
  {
   "cell_type": "markdown",
   "metadata": {},
   "source": [
    "# Exercise 7: Finding Maximum and Minimum Values"
   ]
  },
  {
   "cell_type": "markdown",
   "metadata": {},
   "source": [
    "    \"We often want to find maximum and minimum values in our data. Use the max and min methods to find the largest and smallest temperatures in record_low_celsius:\"\n"
   ]
  },
  {
   "cell_type": "code",
   "execution_count": 31,
   "metadata": {},
   "outputs": [
    {
     "name": "stdout",
     "output_type": "stream",
     "text": [
      "minimum values is 4.444444444444445\n",
      "maximum values is -33.333333333333336\n"
     ]
    }
   ],
   "source": [
    "print(\"minimum values is\",np.max(record_low_celsius))\n",
    "print(\"maximum values is\",np.min(record_low_celsius))"
   ]
  },
  {
   "cell_type": "markdown",
   "metadata": {},
   "source": [
    "# Exercise 8: Which Months do They Correspond to?"
   ]
  },
  {
   "cell_type": "markdown",
   "metadata": {},
   "source": [
    "    \"In the last exercise, you found that the largest and smallest temperature in record_low_celsius. But which months do they correspond to? Use the argmax and argmin methods to determine this:\""
   ]
  },
  {
   "cell_type": "code",
   "execution_count": 32,
   "metadata": {},
   "outputs": [
    {
     "name": "stdout",
     "output_type": "stream",
     "text": [
      "month with largest temperature is 6\n",
      "month with smallest temperature is 0\n"
     ]
    }
   ],
   "source": [
    "print(\"month with largest temperature is\",np.argmax(record_low_celsius))\n",
    "print(\"month with smallest temperature is\",np.argmin(record_low_celsius))"
   ]
  },
  {
   "cell_type": "markdown",
   "metadata": {},
   "source": [
    "# Exercise 9: Calculating Means"
   ]
  },
  {
   "cell_type": "markdown",
   "metadata": {},
   "source": [
    "    \"A value of importance is the mean (or average). Calculate the average lowest temperature in the whole year (in Celsius). You will need the <b>record_low_celsius</b> array and the <b>mean</b> method:\""
   ]
  },
  {
   "cell_type": "code",
   "execution_count": 33,
   "metadata": {},
   "outputs": [
    {
     "name": "stdout",
     "output_type": "stream",
     "text": [
      "average lowest temperature in the whole year is -14.120370370370372\n"
     ]
    }
   ],
   "source": [
    "print(\"average lowest temperature in the whole year is\",np.mean(record_low_celsius))"
   ]
  },
  {
   "cell_type": "code",
   "execution_count": 35,
   "metadata": {},
   "outputs": [
    {
     "name": "stdout",
     "output_type": "stream",
     "text": [
      "the average lowest temperature in the spring is -15.370370370370372\n"
     ]
    }
   ],
   "source": [
    "# Calculate the average lowest temperature in the spring\n",
    "#  Use the variable <b>record_low_celsius_spring</b> that you have defined earlier.\"\n",
    "print(\"the average lowest temperature in the spring is\",np.mean(record_low_celsius_spring))"
   ]
  },
  {
   "cell_type": "markdown",
   "metadata": {},
   "source": [
    "# Exercise 10: Challenge"
   ]
  },
  {
   "cell_type": "markdown",
   "metadata": {},
   "source": [
    "    \"I want to find the month where the lowest temperature measured is closest to -10 degrees Celsius:\"\n"
   ]
  },
  {
   "cell_type": "markdown",
   "metadata": {},
   "source": [
    "1. Find value that is closest to -10\n",
    "Hints:\n",
    "try to think on the problem before looking at the hints:\n",
    "    \"1) Add 10 to the array <b>record_low_celsius</b>. Now the problem has been changed to find the value in the new array that is closest to zero\n",
    "    \"2) We are only interested in the distance from zero, not the sign of the number (whether it is positive or negative). Use the abs method to only consider positive numbers.\n",
    "    \"3) Use argmin to find the answer:\""
   ]
  },
  {
   "cell_type": "code",
   "execution_count": 36,
   "metadata": {},
   "outputs": [],
   "source": [
    "centered_at_zero = record_low_celsius+10"
   ]
  },
  {
   "cell_type": "code",
   "execution_count": 39,
   "metadata": {},
   "outputs": [],
   "source": [
    "distance_from_zero = np.abs(centered_at_zero)"
   ]
  },
  {
   "cell_type": "code",
   "execution_count": 40,
   "metadata": {},
   "outputs": [
    {
     "name": "stdout",
     "output_type": "stream",
     "text": [
      "the month where the lowest temperature measured is closest to -10 degrees Celsius: 9\n"
     ]
    }
   ],
   "source": [
    "print(\"the month where the lowest temperature measured is closest to -10 degrees Celsius:\",np.argmin(distance_from_zero))"
   ]
  },
  {
   "cell_type": "markdown",
   "metadata": {},
   "source": [
    "# Exercise - Plotting Temperatures in New York"
   ]
  },
  {
   "cell_type": "markdown",
   "metadata": {},
   "source": [
    "    \"This is a continuation of the Exercise set </b>02 Exercise - Temperature Data in New York</b>. This time, we will be plotting the data to find interesting patterns. The next cell contains the information we need which we found in the previous exercise set.\"\n"
   ]
  },
  {
   "cell_type": "markdown",
   "metadata": {},
   "source": [
    "# Exercise 1:  Making the Months"
   ]
  },
  {
   "cell_type": "markdown",
   "metadata": {},
   "source": [
    "    \"Make an array of the numbers from 1 to 12 representing the months of the year.\"\n"
   ]
  },
  {
   "cell_type": "code",
   "execution_count": 44,
   "metadata": {},
   "outputs": [
    {
     "name": "stdout",
     "output_type": "stream",
     "text": [
      "[ 1  2  3  4  5  6  7  8  9 10 11 12]\n"
     ]
    }
   ],
   "source": [
    "# The array of months.\n",
    "months = np.arange(1, len(record_low_celsius)+1)\n",
    "print(months)"
   ]
  },
  {
   "cell_type": "markdown",
   "metadata": {},
   "source": [
    "# Exercise 2: Import MatPlotLib as plt."
   ]
  },
  {
   "cell_type": "code",
   "execution_count": 45,
   "metadata": {},
   "outputs": [],
   "source": [
    "# Import matplotlib\n",
    "import matplotlib.pyplot as plt"
   ]
  },
  {
   "cell_type": "markdown",
   "metadata": {},
   "source": [
    "# Exercise 3:  Make a Bar Plot"
   ]
  },
  {
   "cell_type": "markdown",
   "metadata": {},
   "source": [
    "    \"Make a bar plot of the temperatures in <b>record_low_celsius</b> with a fitting xlabel and ylabel.\"\n"
   ]
  },
  {
   "cell_type": "code",
   "execution_count": 49,
   "metadata": {},
   "outputs": [
    {
     "data": {
      "image/png": "[encoded data removed]",
      "text/plain": [
       "<Figure size 432x288 with 1 Axes>"
      ]
     },
     "metadata": {},
     "output_type": "display_data"
    }
   ],
   "source": [
    "# Make the bar plot\n",
    "plt.bar(months,record_low_celsius)    \n",
    "# Write the xlabels and the ylabels\\n\",\n",
    "plt.xlabel(\"months\")\n",
    "plt.ylabel(\"temperatur in celsius\")\n",
    "# Show the plot\"\n",
    "plt.show()"
   ]
  },
  {
   "cell_type": "markdown",
   "metadata": {},
   "source": [
    "# Exercise 4: Approximating Temperatures Using Cosine"
   ]
  },
  {
   "cell_type": "markdown",
   "metadata": {},
   "source": [
    "    \"This exercise is a bit tricky, but we will do it in several steps. The end goal is to find a function which approximates the temperatures above.\"\n"
   ]
  },
  {
   "cell_type": "code",
   "execution_count": 53,
   "metadata": {},
   "outputs": [
    {
     "name": "stdout",
     "output_type": "stream",
     "text": [
      "The temperatures in Celsius are: [-33.33333333 -30.         -29.44444444 -12.77777778  -3.88888889\n",
      "   1.66666667   4.44444444   1.11111111  -4.44444444  -8.88888889\n",
      " -23.88888889 -30.        ]\n",
      "The minimum temperature is  -33.333333333333336\n",
      "The maximum temperature is  -33.333333333333336\n",
      "The index of the maximum temperature is 6\n",
      "The average temperature is  -14.120370370370372\n"
     ]
    }
   ],
   "source": [
    "# Importing NumPy as np\n",
    "import numpy as np\n",
    "# Making the dataset of temperatures in Celsius\n",
    "record_low_list = [-28, -22, -21, 9, 25, 35, 40, 34, 24, 16, -11, -22]\n",
    "record_low_array = np.array(record_low_list)\n",
    "record_low_celsius = 5/9 * (record_low_array - 32)\n",
    "    \n",
    "# Finding the min, max, argmax and mean\\n\",\n",
    "min_temp = np.min(record_low_celsius)\n",
    "max_temp = np.max(record_low_celsius)\n",
    "argmax_temp = np.argmax(record_low_celsius)\n",
    "mean_temp = np.mean(record_low_celsius)\n",
    "# Printing out the information.\n",
    "print(\"The temperatures in Celsius are:\", record_low_celsius)\n",
    "print(\"The minimum temperature is \", min_temp)\n",
    "print(\"The maximum temperature is \", min_temp)\n",
    "print(\"The index of the maximum temperature is\", argmax_temp)\n",
    "print(\"The average temperature is \", mean_temp)"
   ]
  },
  {
   "cell_type": "markdown",
   "metadata": {},
   "source": [
    "# Exercise 4a: Find the amplitude and the month number with the highest temperature."
   ]
  },
  {
   "cell_type": "markdown",
   "metadata": {},
   "source": [
    "#    \"The amplitude is defined to be $max-min/2$ Find the amplitude using <b>min_temp</b> and <b>max_temp</b> defined previously. Use <b>argmax_temp</b> to find the month with the highest temperature.\"\n"
   ]
  },
  {
   "cell_type": "code",
   "execution_count": 63,
   "metadata": {},
   "outputs": [],
   "source": [
    "# computing the amptitute\n",
    "amplitude = (max_temp - min_temp)/2"
   ]
  },
  {
   "cell_type": "code",
   "execution_count": 64,
   "metadata": {},
   "outputs": [],
   "source": [
    "# month month with the highest temperature\n",
    "max_temp_month = argmax_temp + 1"
   ]
  },
  {
   "cell_type": "markdown",
   "metadata": {},
   "source": [
    "# Exercise 4b: Find the vector$$2*\\pi*\\frac{months-max\\_temp\\_month}{12}.$$"
   ]
  },
  {
   "cell_type": "code",
   "execution_count": 65,
   "metadata": {},
   "outputs": [],
   "source": [
    "# Computing the vector described above\n",
    "inter_values = 2*np.pi*(months-max_temp_month)/12"
   ]
  },
  {
   "cell_type": "markdown",
   "metadata": {},
   "source": [
    "# Exercise 4c: \"Find an approximation for the temperatures each month by using the formula\\n\", "
   ]
  },
  {
   "cell_type": "markdown",
   "metadata": {},
   "source": [
    "# $$amplitude *\\cos\\left(2*\\pi*\\frac{months-max\\_temp\\_month}{12}\\right)+mean\\_temp$$"
   ]
  },
  {
   "cell_type": "code",
   "execution_count": 67,
   "metadata": {},
   "outputs": [],
   "source": [
    "approx_temp = amplitude*np.cos(inter_values)+mean_temp"
   ]
  },
  {
   "cell_type": "code",
   "execution_count": 68,
   "metadata": {},
   "outputs": [
    {
     "name": "stdout",
     "output_type": "stream",
     "text": [
      "[-33.00925926 -30.478628   -23.56481481 -14.12037037  -4.67592593\n",
      "   2.23788726   4.76851852   2.23788726  -4.67592593 -14.12037037\n",
      " -23.56481481 -30.478628  ]\n"
     ]
    }
   ],
   "source": [
    "print(approx_temp)"
   ]
  },
  {
   "cell_type": "markdown",
   "metadata": {},
   "source": [
    "# Exercise 5: Plot the Difference\""
   ]
  },
  {
   "cell_type": "markdown",
   "metadata": {},
   "source": [
    "    \"In this exercise we are going to check how close our approximation is. We first calculate the absolte value of the difference between the actual values and the approximated values. Secondly, we plot the differences. \"\n"
   ]
  },
  {
   "cell_type": "code",
   "execution_count": 70,
   "metadata": {},
   "outputs": [],
   "source": [
    "# Take the absolute value of the difference\n",
    "abs_difference = np.abs(record_low_celsius - approx_temp)"
   ]
  },
  {
   "cell_type": "code",
   "execution_count": 71,
   "metadata": {},
   "outputs": [
    {
     "data": {
      "text/plain": [
       "<BarContainer object of 12 artists>"
      ]
     },
     "execution_count": 71,
     "metadata": {},
     "output_type": "execute_result"
    },
    {
     "data": {
      "image/png": "[encoded data removed]",
      "text/plain": [
       "<Figure size 432x288 with 1 Axes>"
      ]
     },
     "metadata": {},
     "output_type": "display_data"
    }
   ],
   "source": [
    "# Plot the difference in a bar plot\n",
    "plt.bar(months,abs_difference)"
   ]
  },
  {
   "cell_type": "markdown",
   "metadata": {},
   "source": [
    "# Exercise 6: Plot the Function"
   ]
  },
  {
   "cell_type": "markdown",
   "metadata": {},
   "source": [
    "#    \"Plot the function $f(x)= amplitude *\\cos\\left(2*\\pi*\\frac{x-max\\_temp\\_month}{12}\\right)+mean\\_temp$ for values between 1 and 12.\"\n"
   ]
  },
  {
   "cell_type": "code",
   "execution_count": 72,
   "metadata": {},
   "outputs": [
    {
     "data": {
      "text/plain": [
       "array([ 0.        ,  0.12121212,  0.24242424,  0.36363636,  0.48484848,\n",
       "        0.60606061,  0.72727273,  0.84848485,  0.96969697,  1.09090909,\n",
       "        1.21212121,  1.33333333,  1.45454545,  1.57575758,  1.6969697 ,\n",
       "        1.81818182,  1.93939394,  2.06060606,  2.18181818,  2.3030303 ,\n",
       "        2.42424242,  2.54545455,  2.66666667,  2.78787879,  2.90909091,\n",
       "        3.03030303,  3.15151515,  3.27272727,  3.39393939,  3.51515152,\n",
       "        3.63636364,  3.75757576,  3.87878788,  4.        ,  4.12121212,\n",
       "        4.24242424,  4.36363636,  4.48484848,  4.60606061,  4.72727273,\n",
       "        4.84848485,  4.96969697,  5.09090909,  5.21212121,  5.33333333,\n",
       "        5.45454545,  5.57575758,  5.6969697 ,  5.81818182,  5.93939394,\n",
       "        6.06060606,  6.18181818,  6.3030303 ,  6.42424242,  6.54545455,\n",
       "        6.66666667,  6.78787879,  6.90909091,  7.03030303,  7.15151515,\n",
       "        7.27272727,  7.39393939,  7.51515152,  7.63636364,  7.75757576,\n",
       "        7.87878788,  8.        ,  8.12121212,  8.24242424,  8.36363636,\n",
       "        8.48484848,  8.60606061,  8.72727273,  8.84848485,  8.96969697,\n",
       "        9.09090909,  9.21212121,  9.33333333,  9.45454545,  9.57575758,\n",
       "        9.6969697 ,  9.81818182,  9.93939394, 10.06060606, 10.18181818,\n",
       "       10.3030303 , 10.42424242, 10.54545455, 10.66666667, 10.78787879,\n",
       "       10.90909091, 11.03030303, 11.15151515, 11.27272727, 11.39393939,\n",
       "       11.51515152, 11.63636364, 11.75757576, 11.87878788, 12.        ])"
      ]
     },
     "execution_count": 72,
     "metadata": {},
     "output_type": "execute_result"
    }
   ],
   "source": [
    "# Make 100 points between 0 and 12\n",
    "x_values = np.linspace(0,12,100) # 0 is starting point and pi is ending point, 100 is arond 100 values\n",
    "x_values"
   ]
  },
  {
   "cell_type": "code",
   "execution_count": 73,
   "metadata": {},
   "outputs": [
    {
     "data": {
      "text/plain": [
       "array([-30.478628  , -31.04469722, -31.54261815, -31.97038583,\n",
       "       -32.32627781, -32.60886102, -32.81699761, -32.94984947,\n",
       "       -33.00688167, -32.98786455, -32.8928747 , -32.72229459,\n",
       "       -32.47681111, -32.15741271, -31.76538551, -31.30230806,\n",
       "       -30.77004501, -30.1707396 , -29.50680502, -28.7809147 ,\n",
       "       -27.99599153, -27.15519614, -26.26191411, -25.31974236,\n",
       "       -24.3324747 , -23.3040865 , -22.23871871, -21.1406612 ,\n",
       "       -20.01433546, -18.86427679, -17.6951161 , -16.51156116,\n",
       "       -15.31837774, -14.12037037, -12.922363  , -11.72917958,\n",
       "       -10.54562464,  -9.37646395,  -8.22640528,  -7.10007954,\n",
       "        -6.00202203,  -4.93665424,  -3.90826604,  -2.92099838,\n",
       "        -1.97882663,  -1.0855446 ,  -0.24474921,   0.54017396,\n",
       "         1.26606428,   1.92999886,   2.52930427,   3.06156732,\n",
       "         3.52464477,   3.91667197,   4.23607036,   4.48155385,\n",
       "         4.65213396,   4.74712381,   4.76614093,   4.70910873,\n",
       "         4.57625687,   4.36812028,   4.08553707,   3.72964509,\n",
       "         3.30187741,   2.80395648,   2.23788726,   1.60594911,\n",
       "         0.91068662,   0.15489937,  -0.65836936,  -1.52584481,\n",
       "        -2.44403396,  -3.40923961,  -4.4175752 ,  -5.46498052,\n",
       "        -6.54723803,  -7.65998989,  -8.79875541,  -9.9589492 ,\n",
       "       -11.13589956, -12.32486733, -13.52106496, -14.71967578,\n",
       "       -15.91587341, -17.10484118, -18.28179155, -19.44198533,\n",
       "       -20.58075086, -21.69350271, -22.77576023, -23.82316554,\n",
       "       -24.83150113, -25.79670678, -26.71489594, -27.58237139,\n",
       "       -28.39564011, -29.15142736, -29.84668985, -30.478628  ])"
      ]
     },
     "execution_count": 73,
     "metadata": {},
     "output_type": "execute_result"
    }
   ],
   "source": [
    "# Compute the y_values\n",
    "y_values = amplitude*np.cos(2*np.pi*(x_values-max_temp_month)/12)+mean_temp\n",
    "y_values"
   ]
  },
  {
   "cell_type": "code",
   "execution_count": 75,
   "metadata": {},
   "outputs": [
    {
     "data": {
      "image/png": "[encoded data removed]",
      "text/plain": [
       "<Figure size 432x288 with 1 Axes>"
      ]
     },
     "metadata": {},
     "output_type": "display_data"
    }
   ],
   "source": [
    "# Plot the function\n",
    "plt.plot(x_values,y_values)\n",
    "# Show the function\n",
    "plt.show()"
   ]
  },
  {
   "cell_type": "code",
   "execution_count": null,
   "metadata": {},
   "outputs": [],
   "source": []
  }
 ],
 "metadata": {
  "kernelspec": {
   "display_name": "Python 3",
   "language": "python",
   "name": "python3"
  },
  "language_info": {
   "codemirror_mode": {
    "name": "ipython",
    "version": 3
   },
   "file_extension": ".py",
   "mimetype": "text/x-python",
   "name": "python",
   "nbconvert_exporter": "python",
   "pygments_lexer": "ipython3",
   "version": "3.6.5"
  }
 },
 "nbformat": 4,
 "nbformat_minor": 2
}
