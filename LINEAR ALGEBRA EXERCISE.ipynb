{
 "cells": [
  {
   "cell_type": "markdown",
   "metadata": {},
   "source": [
    "# Basic Linear Algebra"
   ]
  },
  {
   "cell_type": "markdown",
   "metadata": {},
   "source": [
    "#    \"This exercise set is all about doing standard linear algebra exercises using NumPy. \""
   ]
  },
  {
   "cell_type": "code",
   "execution_count": 1,
   "metadata": {},
   "outputs": [],
   "source": [
    "#DON'T MODIFY THIS CELL, ONLY RUN IT.\n",
    "# Importing NumPy as np\n",
    "import numpy as np"
   ]
  },
  {
   "cell_type": "markdown",
   "metadata": {},
   "source": [
    "# Exercise 1: Import the Linalg Submodule"
   ]
  },
  {
   "cell_type": "code",
   "execution_count": 3,
   "metadata": {},
   "outputs": [],
   "source": [
    "# Importing the linalg submodule from NumPy\n",
    "from numpy import linalg"
   ]
  },
  {
   "cell_type": "markdown",
   "metadata": {},
   "source": [
    "# Exercise 2: Simple Vector Operations\n",
    "    Exercise 2a: \n",
    "        Are any of the vectors $[1, 2, 3]$  and $[2, 3, 4]$  parallel? What about orthogonal?"
   ]
  },
  {
   "cell_type": "code",
   "execution_count": 4,
   "metadata": {},
   "outputs": [],
   "source": [
    "# Make the vectors\n",
    "v1=np.array([1,2,3])\n",
    "v2=np.array([2,3,4])"
   ]
  },
  {
   "cell_type": "code",
   "execution_count": 5,
   "metadata": {},
   "outputs": [
    {
     "name": "stdout",
     "output_type": "stream",
     "text": [
      "The cross product between is [-1  2 -1]\n"
     ]
    }
   ],
   "source": [
    "# Checking if parallel\n",
    "print(\"The cross product between is\", np.cross(v1, v2))"
   ]
  },
  {
   "cell_type": "code",
   "execution_count": 7,
   "metadata": {},
   "outputs": [
    {
     "name": "stdout",
     "output_type": "stream",
     "text": [
      "The inner product is 20\n"
     ]
    }
   ],
   "source": [
    "# check if orthogonal\n",
    "print(\"The inner product is\", np.dot(v1, v2))"
   ]
  },
  {
   "cell_type": "markdown",
   "metadata": {},
   "source": [
    "Exercise 2b:\n",
    "    Can you find the angle between the vector $[1, 2, 3]$ and $[2, 3, 4]$\n",
    "   "
   ]
  },
  {
   "cell_type": "code",
   "execution_count": 9,
   "metadata": {},
   "outputs": [
    {
     "name": "stdout",
     "output_type": "stream",
     "text": [
      "the angle is 0.12186756768575456\n"
     ]
    }
   ],
   "source": [
    "# Defining the angle function\n",
    "def angle(vect1,vect2):\n",
    "    cos_angle = np.dot(vect1,vect2)/(linalg.norm(vect1)*linalg.norm(vect2))\n",
    "    return np.arccos(cos_angle) # take inverse of vector\n",
    "# Finding the angle\n",
    "print(\"the angle is\",angle(v1,v2))"
   ]
  },
  {
   "cell_type": "markdown",
   "metadata": {},
   "source": [
    "# Exercise 3: Simple Matrix Operations"
   ]
  },
  {
   "cell_type": "code",
   "execution_count": 12,
   "metadata": {},
   "outputs": [],
   "source": [
    "A=np.array([[1,1,2],[1,1,1],[1,1,1]])\n",
    "B=np.array([[1,0,0],[0,1,-2],[0,0,1]])"
   ]
  },
  {
   "cell_type": "markdown",
   "metadata": {},
   "source": [
    "Exercise 3a: \n",
    "    Find the matrix product"
   ]
  },
  {
   "cell_type": "code",
   "execution_count": 14,
   "metadata": {},
   "outputs": [
    {
     "name": "stdout",
     "output_type": "stream",
     "text": [
      "the matrix product is\n",
      " [[ 1  1  0]\n",
      " [ 1  1 -1]\n",
      " [ 1  1 -1]]\n"
     ]
    }
   ],
   "source": [
    "print(\"the matrix product is\\n\",A@B)"
   ]
  },
  {
   "cell_type": "markdown",
   "metadata": {},
   "source": [
    "Exercise 3b:\n",
    "    Find the matrix product $B^{-1}A^5$.\""
   ]
  },
  {
   "cell_type": "code",
   "execution_count": 25,
   "metadata": {},
   "outputs": [
    {
     "data": {
      "text/plain": [
       "array([[142., 142., 185.],\n",
       "       [327., 327., 426.],\n",
       "       [109., 109., 142.]])"
      ]
     },
     "execution_count": 25,
     "metadata": {},
     "output_type": "execute_result"
    }
   ],
   "source": [
    "linalg.inv(B) @ linalg.matrix_power(A, 5)"
   ]
  },
  {
   "cell_type": "markdown",
   "metadata": {},
   "source": [
    "Exercise 3c: \n",
    "    \"Find the transpose of $A$, namely $A^T$. Compute the product $A A^T$.\n",
    "   "
   ]
  },
  {
   "cell_type": "code",
   "execution_count": 27,
   "metadata": {},
   "outputs": [
    {
     "name": "stdout",
     "output_type": "stream",
     "text": [
      "the transpose of A is\n",
      " [[1 1 1]\n",
      " [1 1 1]\n",
      " [2 1 1]]\n"
     ]
    }
   ],
   "source": [
    "print(\"the transpose of A is\\n\",A.T)"
   ]
  },
  {
   "cell_type": "code",
   "execution_count": 29,
   "metadata": {},
   "outputs": [
    {
     "name": "stdout",
     "output_type": "stream",
     "text": [
      "the product of A and A trsnspose\n",
      " [[6 4 4]\n",
      " [4 3 3]\n",
      " [4 3 3]]\n"
     ]
    }
   ],
   "source": [
    "print(\"the product of A and A trsnspose\\n\",A@A.T)"
   ]
  },
  {
   "cell_type": "markdown",
   "metadata": {},
   "source": [
    "# Exercise 4: Balancing Chemical Equations"
   ]
  },
  {
   "cell_type": "markdown",
   "metadata": {},
   "source": [
    "\"In this exercise we are going to use NumPy to balance a set of chemical equations. The question is how to balance the equation\\n\",\n",
    "    \"$$x*C_4H_{10}+y*O_2 = v*H_2O + w*CO_2.$$\\n\",\n",
    "    \"Written as vectors this becomes\\n\",\n",
    "    \"$$x*[4,10,0]+y*[0,0,2]=z*[0,2,1] + w*[1,0,2],$$\\n\",\n",
    "    \"or equivalently,\\n\",\n",
    "    "
   ]
  },
  {
   "cell_type": "markdown",
   "metadata": {},
   "source": [
    " Exercise 4a: \n",
    "    \"Find out if the matrix is invertible."
   ]
  },
  {
   "cell_type": "code",
   "execution_count": 54,
   "metadata": {},
   "outputs": [],
   "source": [
    "chem_mat = np.array([[4, 0, 0], [10, 0, -2], [0, 2, -1]])"
   ]
  },
  {
   "cell_type": "code",
   "execution_count": 55,
   "metadata": {},
   "outputs": [
    {
     "data": {
      "text/plain": [
       "16.000000000000007"
      ]
     },
     "execution_count": 55,
     "metadata": {},
     "output_type": "execute_result"
    }
   ],
   "source": [
    "linalg.det(chem_mat) # # Since it is nonzero, the matrix is invertible."
   ]
  },
  {
   "cell_type": "markdown",
   "metadata": {},
   "source": [
    "Exercise 4b: \n",
    "    \"Solve the linear system with $w=1$."
   ]
  },
  {
   "cell_type": "code",
   "execution_count": 56,
   "metadata": {},
   "outputs": [
    {
     "name": "stdout",
     "output_type": "stream",
     "text": [
      "The solution is:  [0.25  1.625 1.25 ]\n"
     ]
    }
   ],
   "source": [
    "solution = linalg.solve(chem_mat, np.array([1, 0, 2]))\n",
    "print(\"The solution is: \", solution)"
   ]
  },
  {
   "cell_type": "markdown",
   "metadata": {},
   "source": [
    "Exercise 4c:\n",
    "    \"Having 0.25 of a carbon atom doesn’t really make sense. Multiply the vector with the whole numbers from 1 to 10 to see when the solution consists of only whole numbers.\"\n",
    "   "
   ]
  },
  {
   "cell_type": "code",
   "execution_count": 78,
   "metadata": {},
   "outputs": [
    {
     "name": "stdout",
     "output_type": "stream",
     "text": [
      "The solution multiplied with [0.25  1.625 1.25 ]\n",
      "The solution multiplied with [0.5  3.25 2.5 ]\n",
      "The solution multiplied with [0.75  4.875 3.75 ]\n",
      "The solution multiplied with [1.  6.5 5. ]\n",
      "The solution multiplied with [1.25  8.125 6.25 ]\n",
      "The solution multiplied with [1.5  9.75 7.5 ]\n",
      "The solution multiplied with [ 1.75  11.375  8.75 ]\n",
      "The solution multiplied with [ 2. 13. 10.]\n",
      "The solution multiplied with [ 2.25  14.625 11.25 ]\n",
      "The solution multiplied with [ 2.5  16.25 12.5 ]\n"
     ]
    }
   ],
   "source": [
    "for i in range(1, 11):\n",
    "        print(\"The solution multiplied with\", i*solution)"
   ]
  },
  {
   "cell_type": "markdown",
   "metadata": {},
   "source": [
    "Exercise 4d: \\n\",\n",
    "    \"Write up the balanced equation, in other words, what is $x,$ $y,$ $z,$ and $w$?\"\n",
    "    "
   ]
  },
  {
   "cell_type": "code",
   "execution_count": 57,
   "metadata": {},
   "outputs": [],
   "source": [
    "# 2*C_4H_{10}+13*O_2 = 10*H_2O + 8*CO_2"
   ]
  },
  {
   "cell_type": "code",
   "execution_count": null,
   "metadata": {},
   "outputs": [],
   "source": []
  }
 ],
 "metadata": {
  "kernelspec": {
   "display_name": "Python 3",
   "language": "python",
   "name": "python3"
  },
  "language_info": {
   "codemirror_mode": {
    "name": "ipython",
    "version": 3
   },
   "file_extension": ".py",
   "mimetype": "text/x-python",
   "name": "python",
   "nbconvert_exporter": "python",
   "pygments_lexer": "ipython3",
   "version": "3.6.5"
  }
 },
 "nbformat": 4,
 "nbformat_minor": 2
}
